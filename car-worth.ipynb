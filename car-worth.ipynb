{
 "cells": [
  {
   "cell_type": "code",
   "execution_count": 1,
   "metadata": {
    "collapsed": false
   },
   "outputs": [],
   "source": [
    "import pandas as pd\n",
    "import matplotlib.pyplot as plt\n",
    "import numpy as np\n",
    "from itertools import combinations\n",
    "from sklearn import linear_model\n",
    "\n",
    "%matplotlib inline"
   ]
  },
  {
   "cell_type": "markdown",
   "metadata": {},
   "source": [
    "# How Much is Your Car Worth?\n",
    "\n",
    "Data about the retail price of 2005 General Motors cars can be found in `car_data.csv`.\n",
    "\n",
    "The columns are:\n",
    "\n",
    "1. Price: suggested retail price of the used 2005 GM car in excellent condition.\n",
    "2. Mileage: number of miles the car has been driven\n",
    "3. Make: manufacturer of the car such as Saturn, Pontiac, and Chevrolet\n",
    "4. Model: specific models for each car manufacturer such as Ion, Vibe, Cavalier\n",
    "5. Trim (of car): specific type of car model such as SE Sedan 4D, Quad Coupe 2D          \n",
    "6. Type: body type such as sedan, coupe, etc.      \n",
    "7. Cylinder: number of cylinders in the engine        \n",
    "8. Liter: a more specific measure of engine size     \n",
    "9. Doors: number of doors           \n",
    "10. Cruise: indicator variable representing whether the car has cruise control (1 = cruise)\n",
    "11. Sound: indicator variable representing whether the car has upgraded speakers (1 = upgraded)\n",
    "12. Leather: indicator variable representing whether the car has leather seats (1 = leather)"
   ]
  },
  {
   "cell_type": "code",
   "execution_count": 12,
   "metadata": {
    "collapsed": false
   },
   "outputs": [
    {
     "data": {
      "text/html": [
       "<div>\n",
       "<table border=\"1\" class=\"dataframe\">\n",
       "  <thead>\n",
       "    <tr style=\"text-align: right;\">\n",
       "      <th></th>\n",
       "      <th>Price</th>\n",
       "      <th>Mileage</th>\n",
       "      <th>Make</th>\n",
       "      <th>Model</th>\n",
       "      <th>Trim</th>\n",
       "      <th>Type</th>\n",
       "      <th>Cylinder</th>\n",
       "      <th>Liter</th>\n",
       "      <th>Doors</th>\n",
       "      <th>Cruise</th>\n",
       "      <th>Sound</th>\n",
       "      <th>Leather</th>\n",
       "    </tr>\n",
       "  </thead>\n",
       "  <tbody>\n",
       "    <tr>\n",
       "      <th>0</th>\n",
       "      <td>17314.103129</td>\n",
       "      <td>8221</td>\n",
       "      <td>Buick</td>\n",
       "      <td>Century</td>\n",
       "      <td>Sedan 4D</td>\n",
       "      <td>Sedan</td>\n",
       "      <td>6</td>\n",
       "      <td>3.1</td>\n",
       "      <td>4</td>\n",
       "      <td>1</td>\n",
       "      <td>1</td>\n",
       "      <td>1</td>\n",
       "    </tr>\n",
       "    <tr>\n",
       "      <th>1</th>\n",
       "      <td>17542.036083</td>\n",
       "      <td>9135</td>\n",
       "      <td>Buick</td>\n",
       "      <td>Century</td>\n",
       "      <td>Sedan 4D</td>\n",
       "      <td>Sedan</td>\n",
       "      <td>6</td>\n",
       "      <td>3.1</td>\n",
       "      <td>4</td>\n",
       "      <td>1</td>\n",
       "      <td>1</td>\n",
       "      <td>0</td>\n",
       "    </tr>\n",
       "    <tr>\n",
       "      <th>2</th>\n",
       "      <td>16218.847862</td>\n",
       "      <td>13196</td>\n",
       "      <td>Buick</td>\n",
       "      <td>Century</td>\n",
       "      <td>Sedan 4D</td>\n",
       "      <td>Sedan</td>\n",
       "      <td>6</td>\n",
       "      <td>3.1</td>\n",
       "      <td>4</td>\n",
       "      <td>1</td>\n",
       "      <td>1</td>\n",
       "      <td>0</td>\n",
       "    </tr>\n",
       "    <tr>\n",
       "      <th>3</th>\n",
       "      <td>16336.913140</td>\n",
       "      <td>16342</td>\n",
       "      <td>Buick</td>\n",
       "      <td>Century</td>\n",
       "      <td>Sedan 4D</td>\n",
       "      <td>Sedan</td>\n",
       "      <td>6</td>\n",
       "      <td>3.1</td>\n",
       "      <td>4</td>\n",
       "      <td>1</td>\n",
       "      <td>0</td>\n",
       "      <td>0</td>\n",
       "    </tr>\n",
       "    <tr>\n",
       "      <th>4</th>\n",
       "      <td>16339.170324</td>\n",
       "      <td>19832</td>\n",
       "      <td>Buick</td>\n",
       "      <td>Century</td>\n",
       "      <td>Sedan 4D</td>\n",
       "      <td>Sedan</td>\n",
       "      <td>6</td>\n",
       "      <td>3.1</td>\n",
       "      <td>4</td>\n",
       "      <td>1</td>\n",
       "      <td>0</td>\n",
       "      <td>1</td>\n",
       "    </tr>\n",
       "  </tbody>\n",
       "</table>\n",
       "</div>"
      ],
      "text/plain": [
       "          Price  Mileage   Make    Model      Trim   Type  Cylinder  Liter  \\\n",
       "0  17314.103129     8221  Buick  Century  Sedan 4D  Sedan         6    3.1   \n",
       "1  17542.036083     9135  Buick  Century  Sedan 4D  Sedan         6    3.1   \n",
       "2  16218.847862    13196  Buick  Century  Sedan 4D  Sedan         6    3.1   \n",
       "3  16336.913140    16342  Buick  Century  Sedan 4D  Sedan         6    3.1   \n",
       "4  16339.170324    19832  Buick  Century  Sedan 4D  Sedan         6    3.1   \n",
       "\n",
       "   Doors  Cruise  Sound  Leather  \n",
       "0      4       1      1        1  \n",
       "1      4       1      1        0  \n",
       "2      4       1      1        0  \n",
       "3      4       1      0        0  \n",
       "4      4       1      0        1  "
      ]
     },
     "execution_count": 12,
     "metadata": {},
     "output_type": "execute_result"
    }
   ],
   "source": [
    "# read in data file and look at a sample of the data inside.\n",
    "\n",
    "df = pd.read_csv(\"car_data.csv\")\n",
    "df.head()"
   ]
  },
  {
   "cell_type": "markdown",
   "metadata": {},
   "source": [
    "## Tasks, Part 1\n",
    "Find the linear regression equation for mileage vs price.\n",
    "Chart the original data and the equation on the chart.\n",
    "Find the equation's R2 score (use the .score method) to determine whether the equation is a good fit for this data. (0.8 and greater is considered a strong correlation.)"
   ]
  },
  {
   "cell_type": "code",
   "execution_count": 3,
   "metadata": {
    "collapsed": false
   },
   "outputs": [
    {
     "name": "stdout",
     "output_type": "stream",
     "text": [
      "[[-0.1725205]] [ 24764.55900606]\n",
      "0.0204634473235\n"
     ]
    }
   ],
   "source": [
    "# Find the linear regression equation for this data for used car mileage to price.\n",
    "\n",
    "input_data = df[['Mileage']]\n",
    "output_data = df[['Price']]\n",
    "\n",
    "regr = linear_model.LinearRegression()\n",
    "regr.fit(input_data, output_data)\n",
    "print(regr.coef_, regr.intercept_)\n",
    "print(regr.score(input_data, output_data))"
   ]
  },
  {
   "cell_type": "code",
   "execution_count": 4,
   "metadata": {
    "collapsed": false,
    "scrolled": true
   },
   "outputs": [
    {
     "data": {
      "image/png": "[encoded data removed]",
      "text/plain": [
       "<matplotlib.figure.Figure at 0x108b39eb8>"
      ]
     },
     "metadata": {},
     "output_type": "display_data"
    }
   ],
   "source": [
    "# Chart the original data and the equation on the chart.\n",
    "\n",
    "plt.scatter(input_data, output_data, color='green')\n",
    "plt.plot(input_data, regr.predict(input_data), color = 'black')\n",
    "plt.title('Relationship Between Mileage and Price of\\nused 2005 GM cars in excellent condition')\n",
    "plt.xlabel('Car Mileage')\n",
    "plt.ylabel('Used Price')\n",
    "plt.show()"
   ]
  },
  {
   "cell_type": "markdown",
   "metadata": {},
   "source": [
    "### Observations:\n",
    "The $R^2$ score does not indicate a strong relationship between mileage and car price, however inspection of the chart and real-world experience indicate that there is a strong correlation.\n",
    "\n",
    "### -------------------------------------------------------------------------------------------------------"
   ]
  },
  {
   "cell_type": "markdown",
   "metadata": {},
   "source": [
    "## Tasks, Part 2\n",
    "\n",
    "1. Use mileage, cylinders, liters, doors, cruise, sound, and leather to find the linear regression equation.\n",
    "2. Find the equation's $R^2$ score (use the `.score` method) to determine whether the\n",
    "equation is a good fit for this data. (0.8 and greater is considered a strong correlation.)\n",
    "3. Find the combination of the factors that is the best predictor for price.\n",
    "\n"
   ]
  },
  {
   "cell_type": "code",
   "execution_count": 11,
   "metadata": {
    "collapsed": false
   },
   "outputs": [
    {
     "name": "stdout",
     "output_type": "stream",
     "text": [
      "0.446264353673\n"
     ]
    }
   ],
   "source": [
    "# Use mileage, cylinders, liters, doors, cruise, sound, and leather to find \n",
    "# the linear regression equation.\n",
    "\n",
    "# Find the equation's R2 score (use the .score method) to determine whether \n",
    "# the equation is a good fit for this data. (0.8 and greater is considered \n",
    "# a strong correlation.)\n",
    "\n",
    "poss_cols = ['Mileage', 'Cylinder', \n",
    "            'Liter', 'Doors', 'Cruise', \n",
    "            'Sound', 'Leather']\n",
    "\n",
    "for num in range(len(poss_cols)):\n",
    "    for x in combinations(poss_cols, num):\n",
    "        input_data = df[poss_cols]\n",
    "        output_data = df.Price\n",
    "        regr = linear_model.LinearRegression()\n",
    "        regr.fit(input_data, output_data)\n",
    "print(regr.score(input_data, output_data))"
   ]
  },
  {
   "cell_type": "markdown",
   "metadata": {},
   "source": [
    "### Observations:\n",
    "With a regression score of 0.446264353673, there is not a strong correlation between used car price and the following factors:  mileage, cylinders, liters, doors, cruise control, sound, and leather.  There must be other factors which are more relevant to buyers of used cars.\n",
    "\n",
    "### -------------------------------------------------------------------------------------------------------"
   ]
  },
  {
   "cell_type": "markdown",
   "metadata": {},
   "source": [
    "## Tasks, Part 3\n",
    "\n",
    "1. Research dummy variables in scikit-learn to see how to use the make, model, and body type.\n",
    "2. Find the best combination of factors to predict price."
   ]
  },
  {
   "cell_type": "code",
   "execution_count": 6,
   "metadata": {
    "collapsed": false
   },
   "outputs": [
    {
     "name": "stdout",
     "output_type": "stream",
     "text": [
      "     Buick  Cadillac  Chevrolet  Pontiac  SAAB  Saturn\n",
      "0        1         0          0        0     0       0\n",
      "1        1         0          0        0     0       0\n",
      "2        1         0          0        0     0       0\n",
      "3        1         0          0        0     0       0\n",
      "4        1         0          0        0     0       0\n",
      "5        1         0          0        0     0       0\n",
      "6        1         0          0        0     0       0\n",
      "7        1         0          0        0     0       0\n",
      "8        1         0          0        0     0       0\n",
      "9        1         0          0        0     0       0\n",
      "10       1         0          0        0     0       0\n",
      "11       1         0          0        0     0       0\n",
      "12       1         0          0        0     0       0\n",
      "13       1         0          0        0     0       0\n",
      "14       1         0          0        0     0       0\n",
      "15       1         0          0        0     0       0\n",
      "16       1         0          0        0     0       0\n",
      "17       1         0          0        0     0       0\n",
      "18       1         0          0        0     0       0\n",
      "19       1         0          0        0     0       0\n",
      "20       1         0          0        0     0       0\n",
      "21       1         0          0        0     0       0\n",
      "22       1         0          0        0     0       0\n",
      "23       1         0          0        0     0       0\n",
      "24       1         0          0        0     0       0\n",
      "25       1         0          0        0     0       0\n",
      "26       1         0          0        0     0       0\n",
      "27       1         0          0        0     0       0\n",
      "28       1         0          0        0     0       0\n",
      "29       1         0          0        0     0       0\n",
      "..     ...       ...        ...      ...   ...     ...\n",
      "774      0         0          0        0     0       1\n",
      "775      0         0          0        0     0       1\n",
      "776      0         0          0        0     0       1\n",
      "777      0         0          0        0     0       1\n",
      "778      0         0          0        0     0       1\n",
      "779      0         0          0        0     0       1\n",
      "780      0         0          0        0     0       1\n",
      "781      0         0          0        0     0       1\n",
      "782      0         0          0        0     0       1\n",
      "783      0         0          0        0     0       1\n",
      "784      0         0          0        0     0       1\n",
      "785      0         0          0        0     0       1\n",
      "786      0         0          0        0     0       1\n",
      "787      0         0          0        0     0       1\n",
      "788      0         0          0        0     0       1\n",
      "789      0         0          0        0     0       1\n",
      "790      0         0          0        0     0       1\n",
      "791      0         0          0        0     0       1\n",
      "792      0         0          0        0     0       1\n",
      "793      0         0          0        0     0       1\n",
      "794      0         0          0        0     0       1\n",
      "795      0         0          0        0     0       1\n",
      "796      0         0          0        0     0       1\n",
      "797      0         0          0        0     0       1\n",
      "798      0         0          0        0     0       1\n",
      "799      0         0          0        0     0       1\n",
      "800      0         0          0        0     0       1\n",
      "801      0         0          0        0     0       1\n",
      "802      0         0          0        0     0       1\n",
      "803      0         0          0        0     0       1\n",
      "\n",
      "[804 rows x 6 columns]\n"
     ]
    }
   ],
   "source": [
    "# Research dummy variables in scikit-learn to see how to use the make, model, and body type.\n",
    "\n",
    "dummies = pd.get_dummies(df['Make'])\n",
    "print(dummies)"
   ]
  },
  {
   "cell_type": "code",
   "execution_count": null,
   "metadata": {
    "collapsed": true
   },
   "outputs": [],
   "source": []
  }
 ],
 "metadata": {
  "kernelspec": {
   "display_name": "Python 3",
   "language": "python",
   "name": "python3"
  },
  "language_info": {
   "codemirror_mode": {
    "name": "ipython",
    "version": 3
   },
   "file_extension": ".py",
   "mimetype": "text/x-python",
   "name": "python",
   "nbconvert_exporter": "python",
   "pygments_lexer": "ipython3",
   "version": "3.4.3"
  }
 },
 "nbformat": 4,
 "nbformat_minor": 0
}
